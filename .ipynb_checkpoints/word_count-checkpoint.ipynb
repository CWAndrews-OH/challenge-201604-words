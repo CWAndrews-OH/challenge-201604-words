{
 "cells": [
  {
   "cell_type": "code",
   "execution_count": 1,
   "metadata": {
    "collapsed": true
   },
   "outputs": [],
   "source": [
    "%matplotlib inline\n",
    "from word_count import WordCounter, LetterCounter\n",
    "\n",
    "MANU_STRING = 'This is?\\r my |file.\\nIt is alright\\t 123 I suppose...\\nThis is !really! just a test.\\nI hope it, works'\n",
    "MANU_STRING_2 = 'This is just another string but longer and with no newlines to test the read_in_string method. is is.'\n",
    "\n",
    "FRANKEN_TEXT = './static/pg83.txt'\n",
    "MOON_TEXT = './static/pg84.txt'\n",
    "MANU_TEXT = './static/test.txt'"
   ]
  },
  {
   "cell_type": "code",
   "execution_count": 2,
   "metadata": {
    "collapsed": false
   },
   "outputs": [
    {
     "data": {
      "text/plain": [
       "[('the', 7785),\n",
       " ('of', 3967),\n",
       " ('to', 2284),\n",
       " ('and', 2022),\n",
       " ('a', 1790),\n",
       " ('in', 1430),\n",
       " ('it', 1142),\n",
       " ('that', 1043),\n",
       " ('was', 970),\n",
       " ('is', 761),\n",
       " ('which', 728),\n",
       " ('not', 728),\n",
       " ('at', 681),\n",
       " ('by', 641),\n",
       " ('with', 629),\n",
       " ('this', 608),\n",
       " ('they', 593),\n",
       " ('on', 585),\n",
       " ('be', 546),\n",
       " ('but', 537)]"
      ]
     },
     "execution_count": 2,
     "metadata": {},
     "output_type": "execute_result"
    }
   ],
   "source": [
    "stein = WordCounter().read_in_file(FRANKEN_TEXT, length=20)\n",
    "stein"
   ]
  },
  {
   "cell_type": "code",
   "execution_count": 3,
   "metadata": {
    "collapsed": false
   },
   "outputs": [],
   "source": [
    "moon = LetterCounter().read_in_file(MOON_TEXT, length=None)"
   ]
  },
  {
   "cell_type": "code",
   "execution_count": 4,
   "metadata": {
    "collapsed": false
   },
   "outputs": [
    {
     "data": {
      "text/plain": [
       "[('e', 44210),\n",
       " ('t', 28835),\n",
       " ('a', 25733),\n",
       " ('o', 23886),\n",
       " ('i', 23483),\n",
       " ('n', 23306),\n",
       " ('s', 20380),\n",
       " ('r', 19647),\n",
       " ('h', 19194),\n",
       " ('d', 16327),\n",
       " ('l', 12239),\n",
       " ('m', 10237),\n",
       " ('u', 9897),\n",
       " ('c', 8644),\n",
       " ('f', 8341),\n",
       " ('y', 7578),\n",
       " ('w', 7364),\n",
       " ('p', 5672),\n",
       " ('g', 5564),\n",
       " ('b', 4749),\n",
       " ('v', 3717),\n",
       " ('k', 1617),\n",
       " ('x', 649),\n",
       " ('j', 413),\n",
       " ('q', 313),\n",
       " ('z', 239)]"
      ]
     },
     "execution_count": 4,
     "metadata": {},
     "output_type": "execute_result"
    }
   ],
   "source": [
    "moon"
   ]
  },
  {
   "cell_type": "code",
   "execution_count": 5,
   "metadata": {
    "collapsed": false
   },
   "outputs": [],
   "source": [
    "def frequency_plot(WordCounterObj):\n",
    "    import matplotlib.pyplot as plt\n",
    "    from collections import OrderedDict\n",
    "\n",
    "    dict_counted = OrderedDict()\n",
    "    for w in WordCounterObj:\n",
    "        dict_counted[w[0]] = w[1]\n",
    "\n",
    "    plt.rcdefaults()\n",
    "    plt.barh(range(len(dict_counted)), dict_counted.values(), align='center')\n",
    "    plt.tick_params(labelsize='small', pad=2.5)\n",
    "    plt.title('Word Frequency')\n",
    "    plt.xlabel('Counts')\n",
    "    plt.ylabel('Counted')\n",
    "    plt.yticks(range(len(dict_counted)), dict_counted.keys(), fontsize=10)\n",
    "\n",
    "    plt.show()"
   ]
  },
  {
   "cell_type": "code",
   "execution_count": 6,
   "metadata": {
    "collapsed": false
   },
   "outputs": [
    {
     "ename": "RuntimeError",
     "evalue": "Python is not installed as a framework. The Mac OS X backend will not be able to function correctly if Python is not installed as a framework. See the Python documentation for more information on installing Python as a framework on Mac OS X. Please either reinstall Python as a framework, or try one of the other backends. If you are Working with Matplotlib in a virtual enviroment see 'Working with Matplotlib in Virtual environments' in the Matplotlib FAQ",
     "output_type": "error",
     "traceback": [
      "\u001b[0;31m---------------------------------------------------------------------------\u001b[0m",
      "\u001b[0;31mRuntimeError\u001b[0m                              Traceback (most recent call last)",
      "\u001b[0;32m<ipython-input-6-d8cf12d1da8d>\u001b[0m in \u001b[0;36m<module>\u001b[0;34m()\u001b[0m\n\u001b[0;32m----> 1\u001b[0;31m \u001b[0mfrequency_plot\u001b[0m\u001b[0;34m(\u001b[0m\u001b[0mmoon\u001b[0m\u001b[0;34m)\u001b[0m\u001b[0;34m\u001b[0m\u001b[0m\n\u001b[0m",
      "\u001b[0;32m<ipython-input-5-75b9eb6df491>\u001b[0m in \u001b[0;36mfrequency_plot\u001b[0;34m(WordCounterObj)\u001b[0m\n\u001b[1;32m      1\u001b[0m \u001b[0;32mdef\u001b[0m \u001b[0mfrequency_plot\u001b[0m\u001b[0;34m(\u001b[0m\u001b[0mWordCounterObj\u001b[0m\u001b[0;34m)\u001b[0m\u001b[0;34m:\u001b[0m\u001b[0;34m\u001b[0m\u001b[0m\n\u001b[0;32m----> 2\u001b[0;31m     \u001b[0;32mimport\u001b[0m \u001b[0mmatplotlib\u001b[0m\u001b[0;34m.\u001b[0m\u001b[0mpyplot\u001b[0m \u001b[0;32mas\u001b[0m \u001b[0mplt\u001b[0m\u001b[0;34m\u001b[0m\u001b[0m\n\u001b[0m\u001b[1;32m      3\u001b[0m     \u001b[0;32mfrom\u001b[0m \u001b[0mcollections\u001b[0m \u001b[0;32mimport\u001b[0m \u001b[0mOrderedDict\u001b[0m\u001b[0;34m\u001b[0m\u001b[0m\n\u001b[1;32m      4\u001b[0m \u001b[0;34m\u001b[0m\u001b[0m\n\u001b[1;32m      5\u001b[0m     \u001b[0mdict_counted\u001b[0m \u001b[0;34m=\u001b[0m \u001b[0mOrderedDict\u001b[0m\u001b[0;34m(\u001b[0m\u001b[0;34m)\u001b[0m\u001b[0;34m\u001b[0m\u001b[0m\n",
      "\u001b[0;32m/Users/cwandrews/Dropbox/code_projects/dev/python/projects/challenge-201604-words/venv/lib/python3.5/site-packages/matplotlib/pyplot.py\u001b[0m in \u001b[0;36m<module>\u001b[0;34m()\u001b[0m\n\u001b[1;32m    112\u001b[0m \u001b[0;34m\u001b[0m\u001b[0m\n\u001b[1;32m    113\u001b[0m \u001b[0;32mfrom\u001b[0m \u001b[0mmatplotlib\u001b[0m\u001b[0;34m.\u001b[0m\u001b[0mbackends\u001b[0m \u001b[0;32mimport\u001b[0m \u001b[0mpylab_setup\u001b[0m\u001b[0;34m\u001b[0m\u001b[0m\n\u001b[0;32m--> 114\u001b[0;31m \u001b[0m_backend_mod\u001b[0m\u001b[0;34m,\u001b[0m \u001b[0mnew_figure_manager\u001b[0m\u001b[0;34m,\u001b[0m \u001b[0mdraw_if_interactive\u001b[0m\u001b[0;34m,\u001b[0m \u001b[0m_show\u001b[0m \u001b[0;34m=\u001b[0m \u001b[0mpylab_setup\u001b[0m\u001b[0;34m(\u001b[0m\u001b[0;34m)\u001b[0m\u001b[0;34m\u001b[0m\u001b[0m\n\u001b[0m\u001b[1;32m    115\u001b[0m \u001b[0;34m\u001b[0m\u001b[0m\n\u001b[1;32m    116\u001b[0m \u001b[0m_IP_REGISTERED\u001b[0m \u001b[0;34m=\u001b[0m \u001b[0;32mNone\u001b[0m\u001b[0;34m\u001b[0m\u001b[0m\n",
      "\u001b[0;32m/Users/cwandrews/Dropbox/code_projects/dev/python/projects/challenge-201604-words/venv/lib/python3.5/site-packages/matplotlib/backends/__init__.py\u001b[0m in \u001b[0;36mpylab_setup\u001b[0;34m()\u001b[0m\n\u001b[1;32m     30\u001b[0m     \u001b[0;31m# imports. 0 means only perform absolute imports.\u001b[0m\u001b[0;34m\u001b[0m\u001b[0;34m\u001b[0m\u001b[0m\n\u001b[1;32m     31\u001b[0m     backend_mod = __import__(backend_name,\n\u001b[0;32m---> 32\u001b[0;31m                              globals(),locals(),[backend_name],0)\n\u001b[0m\u001b[1;32m     33\u001b[0m \u001b[0;34m\u001b[0m\u001b[0m\n\u001b[1;32m     34\u001b[0m     \u001b[0;31m# Things we pull in from all backends\u001b[0m\u001b[0;34m\u001b[0m\u001b[0;34m\u001b[0m\u001b[0m\n",
      "\u001b[0;32m/Users/cwandrews/Dropbox/code_projects/dev/python/projects/challenge-201604-words/venv/lib/python3.5/site-packages/matplotlib/backends/backend_macosx.py\u001b[0m in \u001b[0;36m<module>\u001b[0;34m()\u001b[0m\n\u001b[1;32m     22\u001b[0m \u001b[0;34m\u001b[0m\u001b[0m\n\u001b[1;32m     23\u001b[0m \u001b[0;32mimport\u001b[0m \u001b[0mmatplotlib\u001b[0m\u001b[0;34m\u001b[0m\u001b[0m\n\u001b[0;32m---> 24\u001b[0;31m \u001b[0;32mfrom\u001b[0m \u001b[0mmatplotlib\u001b[0m\u001b[0;34m.\u001b[0m\u001b[0mbackends\u001b[0m \u001b[0;32mimport\u001b[0m \u001b[0m_macosx\u001b[0m\u001b[0;34m\u001b[0m\u001b[0m\n\u001b[0m\u001b[1;32m     25\u001b[0m \u001b[0;34m\u001b[0m\u001b[0m\n\u001b[1;32m     26\u001b[0m \u001b[0;34m\u001b[0m\u001b[0m\n",
      "\u001b[0;31mRuntimeError\u001b[0m: Python is not installed as a framework. The Mac OS X backend will not be able to function correctly if Python is not installed as a framework. See the Python documentation for more information on installing Python as a framework on Mac OS X. Please either reinstall Python as a framework, or try one of the other backends. If you are Working with Matplotlib in a virtual enviroment see 'Working with Matplotlib in Virtual environments' in the Matplotlib FAQ"
     ]
    }
   ],
   "source": [
    "frequency_plot(moon)"
   ]
  },
  {
   "cell_type": "code",
   "execution_count": null,
   "metadata": {
    "collapsed": false
   },
   "outputs": [],
   "source": [
    "wordsdict = OrderedDict()\n",
    "for w in moon:\n",
    "    wordsdict[w[0]] = w[1]\n",
    "\n",
    "plt.rcdefaults()\n",
    "plt.barh(range(len(wordsdict)), wordsdict.values(), align='center', height=0.75)\n",
    "plt.tick_params(labelsize='small', pad=2.5)\n",
    "plt.title('Counted and their Counts')\n",
    "plt.xlabel('Counts')\n",
    "plt.ylabel('Counted')\n",
    "plt.yticks(range(len(wordsdict)), wordsdict.keys(), fontsize=10)\n",
    "\n",
    "plt.show()"
   ]
  }
 ],
 "metadata": {
  "kernelspec": {
   "display_name": "Python 3",
   "language": "python",
   "name": "python3"
  },
  "language_info": {
   "codemirror_mode": {
    "name": "ipython",
    "version": 3
   },
   "file_extension": ".py",
   "mimetype": "text/x-python",
   "name": "python",
   "nbconvert_exporter": "python",
   "pygments_lexer": "ipython3",
   "version": "3.5.1"
  }
 },
 "nbformat": 4,
 "nbformat_minor": 0
}
