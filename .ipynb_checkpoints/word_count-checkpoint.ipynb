{
 "cells": [
  {
   "cell_type": "code",
   "execution_count": 1,
   "metadata": {
    "collapsed": true
   },
   "outputs": [],
   "source": [
    "from word_count import *"
   ]
  },
  {
   "cell_type": "code",
   "execution_count": 10,
   "metadata": {
    "collapsed": false
   },
   "outputs": [
    {
     "data": {
      "text/plain": [
       "[('the', 7785),\n",
       " ('of', 3967),\n",
       " ('to', 2284),\n",
       " ('and', 2022),\n",
       " ('a', 1790),\n",
       " ('in', 1430),\n",
       " ('it', 1142),\n",
       " ('that', 1043),\n",
       " ('was', 970),\n",
       " ('is', 761),\n",
       " ('which', 728),\n",
       " ('not', 728),\n",
       " ('at', 681),\n",
       " ('by', 641),\n",
       " ('with', 629),\n",
       " ('this', 608),\n",
       " ('they', 593),\n",
       " ('on', 585),\n",
       " ('be', 546),\n",
       " ('but', 537)]"
      ]
     },
     "execution_count": 10,
     "metadata": {},
     "output_type": "execute_result"
    }
   ],
   "source": [
    "# stein = WordCounter().read_in_file(TARGET_FILE, 10)\n",
    "stein = WordCounter().read_in_file(TARGET_FILE, length=20)\n",
    "stein"
   ]
  },
  {
   "cell_type": "code",
   "execution_count": 7,
   "metadata": {
    "collapsed": false
   },
   "outputs": [],
   "source": [
    "moon = LetterCounter().read_in_file(TARGET_FILE, length=None)"
   ]
  },
  {
   "cell_type": "code",
   "execution_count": 8,
   "metadata": {
    "collapsed": false
   },
   "outputs": [
    {
     "data": {
      "text/plain": [
       "[('e', 55954),\n",
       " ('t', 42180),\n",
       " ('a', 32627),\n",
       " ('o', 31974),\n",
       " ('i', 30939),\n",
       " ('n', 29616),\n",
       " ('s', 26565),\n",
       " ('h', 25878),\n",
       " ('r', 25457),\n",
       " ('l', 17720),\n",
       " ('d', 16740),\n",
       " ('c', 13775),\n",
       " ('u', 11892),\n",
       " ('m', 10210),\n",
       " ('f', 10029),\n",
       " ('p', 8568),\n",
       " ('w', 8550),\n",
       " ('b', 7443),\n",
       " ('g', 6945),\n",
       " ('y', 6523),\n",
       " ('v', 4130),\n",
       " ('k', 2036),\n",
       " ('x', 1029),\n",
       " ('j', 940),\n",
       " ('q', 580),\n",
       " ('z', 270)]"
      ]
     },
     "execution_count": 8,
     "metadata": {},
     "output_type": "execute_result"
    }
   ],
   "source": [
    "moon"
   ]
  },
  {
   "cell_type": "code",
   "execution_count": 5,
   "metadata": {
    "collapsed": false
   },
   "outputs": [
    {
     "data": {
      "image/png": "[encoded data removed]",
      "text/plain": [
       "<matplotlib.figure.Figure at 0x1040e5b70>"
      ]
     },
     "metadata": {},
     "output_type": "display_data"
    }
   ],
   "source": [
    "%matplotlib inline\n",
    "import matplotlib.pyplot as plt\n",
    "from collections import OrderedDict\n",
    "\n",
    "wordsdict = OrderedDict()\n",
    "for w in stein:\n",
    "    wordsdict[w[0]] = w[1]\n",
    "    \n",
    "if 10 < len(stein) <= 25:\n",
    "    angle = 45\n",
    "elif 25 < len(stein):\n",
    "    angle = 90\n",
    "\n",
    "plt.bar(range(len(wordsdict)), wordsdict.values(), align='center')\n",
    "plt.xticks(range(len(wordsdict)), wordsdict.keys(), rotation=angle)\n",
    "\n",
    "plt.show()"
   ]
  },
  {
   "cell_type": "code",
   "execution_count": 6,
   "metadata": {
    "collapsed": false
   },
   "outputs": [
    {
     "data": {
      "image/png": "[encoded data removed]",
      "text/plain": [
       "<matplotlib.figure.Figure at 0x105640e48>"
      ]
     },
     "metadata": {},
     "output_type": "display_data"
    }
   ],
   "source": [
    "wordsdict = OrderedDict()\n",
    "for w in moon:\n",
    "    wordsdict[w[0]] = w[1]\n",
    "\n",
    "plt.bar(range(len(wordsdict)), wordsdict.values(), align='center')\n",
    "plt.xticks(range(len(wordsdict)), wordsdict.keys(), rotation=45)\n",
    "\n",
    "plt.show()"
   ]
  },
  {
   "cell_type": "code",
   "execution_count": null,
   "metadata": {
    "collapsed": true
   },
   "outputs": [],
   "source": []
  }
 ],
 "metadata": {
  "kernelspec": {
   "display_name": "Python 3",
   "language": "python",
   "name": "python3"
  },
  "language_info": {
   "codemirror_mode": {
    "name": "ipython",
    "version": 3
   },
   "file_extension": ".py",
   "mimetype": "text/x-python",
   "name": "python",
   "nbconvert_exporter": "python",
   "pygments_lexer": "ipython3",
   "version": "3.5.1"
  }
 },
 "nbformat": 4,
 "nbformat_minor": 0
}
