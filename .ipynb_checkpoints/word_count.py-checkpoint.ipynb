{
 "cells": [
  {
   "cell_type": "code",
   "execution_count": 1,
   "metadata": {
    "collapsed": true
   },
   "outputs": [],
   "source": [
    "# coding = utf-8\n",
    "# author = cwandrews\n",
    "\n",
    "# TODO Add docstrings\n",
    "# TODO Change read_in functions to generators?\n",
    "# TODO Add testing via pytest\n",
    "# urls *Maybe?\n",
    "\n",
    "\n",
    "TARGET_STRING = 'This is? my file.\\nIt is alright I suppose...\\nThis is !really! just a test.\\nI hope it, works'\n",
    "TARGET_STRING2 = 'This is just another string but longer and with no newlines to test the read_in_string method. is is.'\n",
    "# Target text to be read (Frankenstein)\n",
    "TARGET_FILE = './static_files/pg83.txt'\n",
    "TARGET_FILE2 = './static_files/pg84.txt'\n",
    "TEST_TXT = './static_files/test.txt'\n",
    "DOES_NOT_EXIST = './static_files/fake.txt'\n",
    "\n",
    "# 230k+ words from the standard UNIX dict in a local text file ('/usr/share/dict/words')\n",
    "ENGLISH_WORDS = './static_files/english_words.txt'\n",
    "\n",
    "\n",
    "class WordCounter:\n",
    "    \"\"\"\n",
    "    Read text from string or text file, counts words, and returns sorted list of tuples with the n most common words\n",
    "    and their respective counts.\n",
    "    \"\"\"\n",
    "\n",
    "    @staticmethod\n",
    "    def _char_counter(sanitized_text_gen, num_words=10):\n",
    "        from types import GeneratorType\n",
    "        from collections import Counter\n",
    "\n",
    "        assert isinstance(sanitized_text_gen, GeneratorType)\n",
    "\n",
    "        with open(ENGLISH_WORDS, 'rt') as eng_dict:\n",
    "            english_dict = list(set([eng_word.lower().rstrip('\\n') for eng_word in eng_dict.readlines()]))\n",
    "\n",
    "        master_word_count = Counter()\n",
    "\n",
    "        for w_line in sanitized_text_gen:\n",
    "            master_word_count.update(Counter(w_line.split()))\n",
    "\n",
    "        master_word_list = [word for word in master_word_count.most_common(num_words) if word[0] in english_dict]\n",
    "        master_word_list.sort(key=lambda wc: wc[1], reverse=True)\n",
    "\n",
    "        return master_word_list[:num_words]\n",
    "    \n",
    "    @staticmethod\n",
    "    def __sanitize(string_list):\n",
    "        \"\"\"\n",
    "        Performs additional processing (sanitzation) of text. Will strip white space from start and end of string,\n",
    "        remove special characters, downcase all letters, replace any white space w/single space. Private method\n",
    "        utilized by class methods.\n",
    "        \"\"\"\n",
    "        import re\n",
    "\n",
    "        assert isinstance(string_list, list)\n",
    "\n",
    "        white_space_re = re.compile(\"\\s+\")\n",
    "        special_chars_re = re.compile(\"[-\\\"\\':;.?!,\\(\\)\\d]+\")\n",
    "\n",
    "        trimmed_text = [w_line.strip() for w_line in string_list if w_line]\n",
    "        extra_ws_processed_text = [white_space_re.sub(' ', w_line) for w_line in trimmed_text]\n",
    "        spec_char_killer_processed_text = [special_chars_re.sub('', w_line) for w_line in extra_ws_processed_text]\n",
    "        sanitized_text = [w_line.lower() for w_line in spec_char_killer_processed_text]\n",
    "\n",
    "        assert isinstance(sanitized_text, list)\n",
    "        for sanitized_line in sanitized_text:\n",
    "            yield sanitized_line\n",
    "\n",
    "    def read_in_string(self, string, length):\n",
    "        import re\n",
    "\n",
    "        assert isinstance(string, str)\n",
    "\n",
    "        new_line_re = re.compile(\"[\\n\\r]\")\n",
    "\n",
    "        if new_line_re.search(string):\n",
    "            chunked_text = new_line_re.split(string)\n",
    "        else:\n",
    "            chunked_text = [string]\n",
    "\n",
    "        assert isinstance(chunked_text, list)\n",
    "        return self._char_counter(self.__sanitize(chunked_text), length)\n",
    "\n",
    "    def read_in_file(self, filepath, length):\n",
    "        from os.path import exists, isfile\n",
    "\n",
    "        assert exists(filepath) and isfile(filepath)\n",
    "\n",
    "        with open(filepath, 'rt') as infile:\n",
    "            import re\n",
    "\n",
    "            gberg_split_re = re.compile(\"\\n{10}\")\n",
    "            new_line_re = re.compile(\"[\\n\\r]\")\n",
    "\n",
    "            read_text = infile.read()\n",
    "\n",
    "            if (\"GUTENBERG\" in read_text) and gberg_split_re.search(read_text):\n",
    "                working_text = gberg_split_re.split(read_text)[1]\n",
    "            else:\n",
    "                working_text = read_text\n",
    "\n",
    "            if new_line_re.search(working_text):\n",
    "                chunked_text = new_line_re.split(working_text)\n",
    "            else:\n",
    "                chunked_text = [working_text]\n",
    "\n",
    "        assert isinstance(chunked_text, list)\n",
    "        return self._char_counter(self.__sanitize(chunked_text), length)\n",
    "\n",
    "\n",
    "class LetterCounter(WordCounter):\n",
    "\n",
    "    @staticmethod\n",
    "    def _char_counter(sanitized_text_gen, num_letters=10):\n",
    "        from types import GeneratorType\n",
    "        from collections import Counter\n",
    "        import re\n",
    "\n",
    "        assert isinstance(sanitized_text_gen, GeneratorType)\n",
    "\n",
    "        english_letters = re.compile(\"[a-z]\")\n",
    "\n",
    "        master_letter_count = Counter()\n",
    "\n",
    "        for w_line in sanitized_text_gen:\n",
    "            ns_w_line = list(''.join(w_line))\n",
    "            master_letter_count.update(Counter(ns_w_line))\n",
    "\n",
    "        master_letter_list = [letter for letter in master_letter_count.most_common(\n",
    "            num_letters) if english_letters.match(letter[0])]\n",
    "\n",
    "        master_letter_list.sort(key=lambda lc: lc[1], reverse=True)\n",
    "\n",
    "        return master_letter_list[:num_letters]\n",
    "\n"
   ]
  },
  {
   "cell_type": "code",
   "execution_count": 6,
   "metadata": {
    "collapsed": true
   },
   "outputs": [],
   "source": []
  },
  {
   "cell_type": "code",
   "execution_count": 7,
   "metadata": {
    "collapsed": false
   },
   "outputs": [],
   "source": [
    "wc = WordCounter().read_in_file(TARGET_FILE, 10)"
   ]
  },
  {
   "cell_type": "code",
   "execution_count": 8,
   "metadata": {
    "collapsed": false
   },
   "outputs": [
    {
     "data": {
      "text/plain": [
       "[('the', 7785),\n",
       " ('of', 3967),\n",
       " ('to', 2284),\n",
       " ('and', 2022),\n",
       " ('a', 1790),\n",
       " ('in', 1430),\n",
       " ('it', 1142),\n",
       " ('that', 1043),\n",
       " ('was', 970),\n",
       " ('is', 761)]"
      ]
     },
     "execution_count": 8,
     "metadata": {},
     "output_type": "execute_result"
    }
   ],
   "source": [
    "wc"
   ]
  },
  {
   "cell_type": "code",
   "execution_count": 10,
   "metadata": {
    "collapsed": false
   },
   "outputs": [
    {
     "data": {
      "image/png": "[encoded data removed]",
      "text/plain": [
       "<matplotlib.figure.Figure at 0x22bb5e574a8>"
      ]
     },
     "metadata": {},
     "output_type": "display_data"
    }
   ],
   "source": [
    "%matplotlib inline\n",
    "import matplotlib.pyplot as plt\n",
    "from collections import OrderedDict\n",
    "\n",
    "wordsdict = OrderedDict()\n",
    "for w in wc:\n",
    "    wordsdict[w[0]] = w[1]\n",
    "\n",
    "plt.bar(range(len(wordsdict)), wordsdict.values(), align='center')\n",
    "plt.xticks(range(len(wordsdict)), wordsdict.keys())\n",
    "\n",
    "plt.show()"
   ]
  },
  {
   "cell_type": "code",
   "execution_count": null,
   "metadata": {
    "collapsed": true
   },
   "outputs": [],
   "source": []
  }
 ],
 "metadata": {
  "kernelspec": {
   "display_name": "Python 3",
   "language": "python",
   "name": "python3"
  },
  "language_info": {
   "codemirror_mode": {
    "name": "ipython",
    "version": 3
   },
   "file_extension": ".py",
   "mimetype": "text/x-python",
   "name": "python",
   "nbconvert_exporter": "python",
   "pygments_lexer": "ipython3",
   "version": "3.5.1"
  }
 },
 "nbformat": 4,
 "nbformat_minor": 0
}
