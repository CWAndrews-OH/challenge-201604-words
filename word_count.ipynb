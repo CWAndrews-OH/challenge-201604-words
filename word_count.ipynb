{
 "cells": [
  {
   "cell_type": "code",
   "execution_count": 1,
   "metadata": {
    "collapsed": true
   },
   "outputs": [],
   "source": [
    "%matplotlib inline\n",
    "from word_count import WordCounter, LetterCounter\n",
    "\n",
    "MANU_STRING = 'This is?\\r my |file.\\nIt is alright\\t 123 I suppose...\\nThis is !really! just a test.\\nI hope it, works'\n",
    "MANU_STRING_2 = 'This is just another string but longer and with no newlines to test the read_in_string method. is is.'\n",
    "\n",
    "FRANKEN_TEXT = './static/pg83.txt'\n",
    "MOON_TEXT = './static/pg84.txt'\n",
    "MANU_TEXT = './static/test.txt'"
   ]
  },
  {
   "cell_type": "code",
   "execution_count": 2,
   "metadata": {
    "collapsed": false
   },
   "outputs": [
    {
     "data": {
      "text/plain": [
       "[('the', 7785),\n",
       " ('of', 3967),\n",
       " ('to', 2284),\n",
       " ('and', 2022),\n",
       " ('a', 1790),\n",
       " ('in', 1430),\n",
       " ('it', 1142),\n",
       " ('that', 1043),\n",
       " ('was', 970),\n",
       " ('is', 761),\n",
       " ('not', 728),\n",
       " ('which', 728),\n",
       " ('at', 681),\n",
       " ('by', 641),\n",
       " ('with', 629),\n",
       " ('this', 608),\n",
       " ('they', 593),\n",
       " ('on', 585),\n",
       " ('be', 546),\n",
       " ('but', 537)]"
      ]
     },
     "execution_count": 2,
     "metadata": {},
     "output_type": "execute_result"
    }
   ],
   "source": [
    "stein = WordCounter().read_in_file(FRANKEN_TEXT, length=20)\n",
    "stein"
   ]
  },
  {
   "cell_type": "code",
   "execution_count": 3,
   "metadata": {
    "collapsed": false
   },
   "outputs": [],
   "source": [
    "moon = LetterCounter().read_in_file(MOON_TEXT, length=None)"
   ]
  },
  {
   "cell_type": "code",
   "execution_count": 4,
   "metadata": {
    "collapsed": false
   },
   "outputs": [
    {
     "data": {
      "text/plain": [
       "[('e', 44210),\n",
       " ('t', 28835),\n",
       " ('a', 25733),\n",
       " ('o', 23886),\n",
       " ('i', 23483),\n",
       " ('n', 23306),\n",
       " ('s', 20380),\n",
       " ('r', 19647),\n",
       " ('h', 19194),\n",
       " ('d', 16327),\n",
       " ('l', 12239),\n",
       " ('m', 10237),\n",
       " ('u', 9897),\n",
       " ('c', 8644),\n",
       " ('f', 8341),\n",
       " ('y', 7578),\n",
       " ('w', 7364),\n",
       " ('p', 5672),\n",
       " ('g', 5564),\n",
       " ('b', 4749),\n",
       " ('v', 3717),\n",
       " ('k', 1617),\n",
       " ('x', 649),\n",
       " ('j', 413),\n",
       " ('q', 313),\n",
       " ('z', 239)]"
      ]
     },
     "execution_count": 4,
     "metadata": {},
     "output_type": "execute_result"
    }
   ],
   "source": [
    "moon"
   ]
  },
  {
   "cell_type": "code",
   "execution_count": 5,
   "metadata": {
    "collapsed": false
   },
   "outputs": [],
   "source": [
    "def frequency_plot(WordCounterObj):\n",
    "    import matplotlib.pyplot as plt\n",
    "    from collections import OrderedDict\n",
    "\n",
    "    dict_counted = OrderedDict()\n",
    "    for w in WordCounterObj:\n",
    "        dict_counted[w[0]] = w[1]\n",
    "\n",
    "    plt.rcdefaults()\n",
    "    plt.barh(range(len(dict_counted)), dict_counted.values(), align='center')\n",
    "    plt.tick_params(labelsize='small', pad=2.5)\n",
    "    plt.title('Word Frequency')\n",
    "    plt.xlabel('Counts')\n",
    "    plt.ylabel('Counted')\n",
    "    plt.yticks(range(len(dict_counted)), dict_counted.keys(), fontsize=10)\n",
    "\n",
    "    plt.show()"
   ]
  },
  {
   "cell_type": "code",
   "execution_count": 6,
   "metadata": {
    "collapsed": false
   },
   "outputs": [
    {
     "data": {
      "image/png": "[encoded data removed]",
      "text/plain": [
       "<matplotlib.figure.Figure at 0x10f6f66d8>"
      ]
     },
     "metadata": {},
     "output_type": "display_data"
    }
   ],
   "source": [
    "frequency_plot(moon)"
   ]
  },
  {
   "cell_type": "code",
   "execution_count": 7,
   "metadata": {
    "collapsed": false
   },
   "outputs": [
    {
     "ename": "NameError",
     "evalue": "name 'OrderedDict' is not defined",
     "output_type": "error",
     "traceback": [
      "\u001b[0;31m---------------------------------------------------------------------------\u001b[0m",
      "\u001b[0;31mNameError\u001b[0m                                 Traceback (most recent call last)",
      "\u001b[0;32m<ipython-input-7-b85dd134e460>\u001b[0m in \u001b[0;36m<module>\u001b[0;34m()\u001b[0m\n\u001b[0;32m----> 1\u001b[0;31m \u001b[0mwordsdict\u001b[0m \u001b[0;34m=\u001b[0m \u001b[0mOrderedDict\u001b[0m\u001b[0;34m(\u001b[0m\u001b[0;34m)\u001b[0m\u001b[0;34m\u001b[0m\u001b[0m\n\u001b[0m\u001b[1;32m      2\u001b[0m \u001b[0;32mfor\u001b[0m \u001b[0mw\u001b[0m \u001b[0;32min\u001b[0m \u001b[0mmoon\u001b[0m\u001b[0;34m:\u001b[0m\u001b[0;34m\u001b[0m\u001b[0m\n\u001b[1;32m      3\u001b[0m     \u001b[0mwordsdict\u001b[0m\u001b[0;34m[\u001b[0m\u001b[0mw\u001b[0m\u001b[0;34m[\u001b[0m\u001b[0;36m0\u001b[0m\u001b[0;34m]\u001b[0m\u001b[0;34m]\u001b[0m \u001b[0;34m=\u001b[0m \u001b[0mw\u001b[0m\u001b[0;34m[\u001b[0m\u001b[0;36m1\u001b[0m\u001b[0;34m]\u001b[0m\u001b[0;34m\u001b[0m\u001b[0m\n\u001b[1;32m      4\u001b[0m \u001b[0;34m\u001b[0m\u001b[0m\n\u001b[1;32m      5\u001b[0m \u001b[0mplt\u001b[0m\u001b[0;34m.\u001b[0m\u001b[0mrcdefaults\u001b[0m\u001b[0;34m(\u001b[0m\u001b[0;34m)\u001b[0m\u001b[0;34m\u001b[0m\u001b[0m\n",
      "\u001b[0;31mNameError\u001b[0m: name 'OrderedDict' is not defined"
     ]
    }
   ],
   "source": [
    "wordsdict = OrderedDict()\n",
    "for w in moon:\n",
    "    wordsdict[w[0]] = w[1]\n",
    "\n",
    "plt.rcdefaults()\n",
    "plt.barh(range(len(wordsdict)), wordsdict.values(), align='center', height=0.75)\n",
    "plt.tick_params(labelsize='small', pad=2.5)\n",
    "plt.title('Counted and their Counts')\n",
    "plt.xlabel('Counts')\n",
    "plt.ylabel('Counted')\n",
    "plt.yticks(range(len(wordsdict)), wordsdict.keys(), fontsize=10)\n",
    "\n",
    "plt.show()"
   ]
  }
 ],
 "metadata": {
  "kernelspec": {
   "display_name": "Python 3",
   "language": "python",
   "name": "python3"
  },
  "language_info": {
   "codemirror_mode": {
    "name": "ipython",
    "version": 3
   },
   "file_extension": ".py",
   "mimetype": "text/x-python",
   "name": "python",
   "nbconvert_exporter": "python",
   "pygments_lexer": "ipython3",
   "version": "3.5.1"
  }
 },
 "nbformat": 4,
 "nbformat_minor": 0
}
