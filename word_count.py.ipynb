{
 "cells": [
  {
   "cell_type": "code",
   "execution_count": 1,
   "metadata": {
    "collapsed": true
   },
   "outputs": [],
   "source": [
    "from word_count import *"
   ]
  },
  {
   "cell_type": "code",
   "execution_count": 2,
   "metadata": {
    "collapsed": true
   },
   "outputs": [],
   "source": [
    ""
   ]
  },
  {
   "cell_type": "code",
   "execution_count": 2,
   "metadata": {
    "collapsed": false
   },
   "outputs": [
    {
     "data": {
      "text/plain": [
       "[('the', 7785),\n ('of', 3967),\n ('to', 2284),\n ('and', 2022),\n ('a', 1790),\n ('in', 1430),\n ('it', 1142),\n ('that', 1043),\n ('was', 970),\n ('is', 761),\n ('which', 728),\n ('not', 728),\n ('at', 681),\n ('by', 641),\n ('with', 629),\n ('this', 608),\n ('they', 593),\n ('on', 585),\n ('be', 546),\n ('but', 537),\n ('for', 531),\n ('have', 513),\n ('had', 495),\n ('his', 491),\n ('as', 486),\n ('we', 458),\n ('moon', 423),\n ('its', 412),\n ('would', 410),\n ('projectile', 409),\n ('michel', 403),\n ('their', 400),\n ('he', 399),\n ('i', 397),\n ('were', 377),\n ('from', 374),\n ('an', 369),\n ('one', 357),\n ('all', 353),\n ('you', 323),\n ('said', 323),\n ('will', 311),\n ('no', 306),\n ('are', 289),\n ('if', 283),\n ('what', 272),\n ('these', 262)]"
      ]
     },
     "execution_count": 2,
     "metadata": {},
     "output_type": "execute_result"
    }
   ],
   "source": [
    "# stein = WordCounter().read_in_file(TARGET_FILE, 10)\n",
    "stein = WordCounter().read_in_file(TARGET_FILE, 50)\n",
    "stein"
   ]
  },
  {
   "cell_type": "code",
   "execution_count": 3,
   "metadata": {
    "collapsed": false
   },
   "outputs": [],
   "source": [
    "# moon = WordCounter().read_in_file(TARGET_FILE2, 10)\n",
    "moon = LetterCounter().read_in_file(TARGET_FILE, False)"
   ]
  },
  {
   "cell_type": "code",
   "execution_count": 4,
   "metadata": {
    "collapsed": false
   },
   "outputs": [
    {
     "data": {
      "image/png": "[encoded data removed]",
      "text/plain": [
       "<matplotlib.figure.Figure at 0x1055ab4a8>"
      ]
     },
     "metadata": {},
     "output_type": "display_data"
    }
   ],
   "source": [
    "%matplotlib inline\n",
    "import matplotlib.pyplot as plt\n",
    "from collections import OrderedDict\n",
    "\n",
    "wordsdict = OrderedDict()\n",
    "for w in stein:\n",
    "    wordsdict[w[0]] = w[1]\n",
    "    \n",
    "if 10 < len(stein) <= 25:\n",
    "    angle = 45\n",
    "elif 25 < len(stein):\n",
    "    angle = 90\n",
    "\n",
    "plt.bar(range(len(wordsdict)), wordsdict.values(), align='center')\n",
    "plt.xticks(range(len(wordsdict)), wordsdict.keys(), rotation=angle)\n",
    "\n",
    "plt.show()"
   ]
  },
  {
   "cell_type": "code",
   "execution_count": 5,
   "metadata": {
    "collapsed": true
   },
   "outputs": [
    {
     "data": {
      "image/png": "[encoded data removed]",
      "text/plain": [
       "<matplotlib.figure.Figure at 0x105621ac8>"
      ]
     },
     "metadata": {},
     "output_type": "display_data"
    }
   ],
   "source": [
    "wordsdict = OrderedDict()\n",
    "for w in moon:\n",
    "    wordsdict[w[0]] = w[1]\n",
    "\n",
    "plt.bar(range(len(wordsdict)), wordsdict.values(), align='center')\n",
    "plt.xticks(range(len(wordsdict)), wordsdict.keys(), rotation=45)\n",
    "\n",
    "plt.show()"
   ]
  },
  {
   "cell_type": "code",
   "execution_count": 37,
   "metadata": {},
   "outputs": [],
   "source": [
    ""
   ]
  }
 ],
 "metadata": {
  "kernelspec": {
   "display_name": "Python 3",
   "language": "python",
   "name": "python3"
  },
  "language_info": {
   "codemirror_mode": {
    "name": "ipython",
    "version": 3.0
   },
   "file_extension": ".py",
   "mimetype": "text/x-python",
   "name": "python",
   "nbconvert_exporter": "python",
   "pygments_lexer": "ipython3",
   "version": "3.5.1"
  }
 },
 "nbformat": 4,
 "nbformat_minor": 0
}